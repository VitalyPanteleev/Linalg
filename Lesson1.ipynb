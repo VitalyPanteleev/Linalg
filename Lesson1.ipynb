{
 "cells": [
  {
   "cell_type": "markdown",
   "metadata": {},
   "source": [
    "### Линейная алгебра. Урок 1."
   ]
  },
  {
   "cell_type": "markdown",
   "metadata": {},
   "source": [
    "#### Домашнее задание."
   ]
  },
  {
   "cell_type": "markdown",
   "metadata": {},
   "source": [
    "##### 1. Исследовать на линейную зависимость: $$ f_{1}(x)=e^{x}, f_{2}(x)=1, f_{3}(x)=x+1, f_{4}(x)=x-e^{x} $$"
   ]
  },
  {
   "cell_type": "markdown",
   "metadata": {},
   "source": [
    "Докажем, что хотя бы один из векторов линейно выражается через остальные:"
   ]
  },
  {
   "cell_type": "markdown",
   "metadata": {},
   "source": [
    "$$ f_{4}(x) = f_{3}(x) - f_{1}(x) - f_{2}(x) = (x + 1) - e^{x} - 1 = x - e^{x}$$"
   ]
  },
  {
   "cell_type": "markdown",
   "metadata": {},
   "source": [
    "Видно, что $f_{4}(x)$ линейно выражается через $f_{1}(x), f_{2}(x), f_{3}(x)$ $\\Rightarrow$ данные векторы линейно зависимые.\n",
    "\n",
    "Ответ:  Да, вектора линейно зависимые.\n",
    "\n"
   ]
  },
  {
   "cell_type": "markdown",
   "metadata": {},
   "source": [
    "##### 2. Исследовать на линейную зависимость: \n",
    "$$f_{1}(x)=2, f_{2}(x)=x, f_{3}(x)=x^{2}, f_{4}(x)=(x+1)^{2}.$$"
   ]
  },
  {
   "cell_type": "markdown",
   "metadata": {},
   "source": [
    "Докажем, что хотя бы один из векторов линейно выражается через остальные:"
   ]
  },
  {
   "cell_type": "markdown",
   "metadata": {},
   "source": [
    "$$ f_{4}(x) = (x + 1) ^ {2} = x^{2} + 2x + 1 = f_{3}(x) + 2f_{2}(x) + \\frac{1}{2}f_{1}(x)$$"
   ]
  },
  {
   "cell_type": "markdown",
   "metadata": {},
   "source": [
    "Видно, что $f_{4}(x)$ линейно выражается через $f_{1}(x), f_{2}(x), f_{3}(x)$ $\\Rightarrow$ данные векторы линейно зависимые.\n",
    "\n",
    "Ответ:  Да, вектора линейно зависимые.\n"
   ]
  },
  {
   "cell_type": "markdown",
   "metadata": {},
   "source": [
    "##### 3. Найти координаты вектора $x = (2, 3, 5)\\in \\mathbb{R}^{3}$ в базисе $b_{1}=(0, 0, 10)$, $b_{2}=(2, 0, 0)$, $b_{3}=(0, 1, 0)$."
   ]
  },
  {
   "cell_type": "markdown",
   "metadata": {},
   "source": [
    "Линейно выразим вектор $x$ через вектора $b_{1}$, $b_{2}$, $b_{3}$ :"
   ]
  },
  {
   "cell_type": "markdown",
   "metadata": {},
   "source": [
    "$$ x = (2, 3, 5) = (2, 0, 0) + (0, 3, 0) + (0, 0, 5) = 1\\cdot(2, 0, 0) + 3\\cdot(0, 1, 0) + \\frac{1}{2}\\cdot(0, 0, 10) = 1\\cdot b_{2} + 3\\cdot b_{3} + \\frac{1}{2}\\cdot b_{1} $$"
   ]
  },
  {
   "cell_type": "markdown",
   "metadata": {},
   "source": [
    "Ответ:  Вектор $x = (2, 3, 5)\\in \\mathbb{R}^{3}$ в базисе $b_{1}=(0, 0, 10)$, $b_{2}=(2, 0, 0)$, $b_{3}=(0, 1, 0)$ будет иметь координаты: $ x = (1, 3,\\frac{1}{2}) $\n",
    "\n"
   ]
  },
  {
   "cell_type": "markdown",
   "metadata": {},
   "source": [
    "##### 4. Найти координаты вектора $3x^{2}-2x+2\\in\\mathbb{R}^{3}[x]$:\n",
    "\n",
    "   а) в базисе $1$, $x$, $x^{2}$;\n",
    "  "
   ]
  },
  {
   "cell_type": "markdown",
   "metadata": {},
   "source": [
    "Ответ: $(2, -2, 3)$"
   ]
  },
  {
   "cell_type": "markdown",
   "metadata": {},
   "source": [
    "   б) в базисе $x^{2}$, $x-1$, $1$."
   ]
  },
  {
   "cell_type": "markdown",
   "metadata": {},
   "source": [
    "$3x^{2}-2x+2 = 3x^{2} - 2(x - 1) + 1\\cdot0$"
   ]
  },
  {
   "cell_type": "markdown",
   "metadata": {},
   "source": [
    "Ответ: $(3, -2, 0)$\n",
    "\n"
   ]
  },
  {
   "cell_type": "markdown",
   "metadata": {},
   "source": [
    "##### 5. Установить, является ли линейным подпространством:\n",
    "\n",
    "а) совокупность всех векторов трехмерного пространства, у которых по крайней мере одна из первых двух координат равна нулю;"
   ]
  },
  {
   "cell_type": "markdown",
   "metadata": {},
   "source": [
    "Обозначим совокупность всех векторов трёхмерного пространства через множество $L$, такое, что:"
   ]
  },
  {
   "cell_type": "markdown",
   "metadata": {},
   "source": [
    " $$L\\{a_{1} = (x_{1}, y_{1}, z_{1}), a_{2} =  (x_{2}, y_{2}, z_{2}), ... , a_{n} = (x_{n}, y_{n}, z_{n})\\} \\in \\mathbb{R}^{3}, n \\in \\mathbb{N}$$"
   ]
  },
  {
   "cell_type": "markdown",
   "metadata": {},
   "source": [
    "Тогда при необходимом и достаточном условии задачи: $x_{1} = x_{2} = ... = x_{n} = 0, n \\in \\mathbb{N}$ получим новое множество векторов трёхмерного пространства  $L_{x=0}$, такое, что:"
   ]
  },
  {
   "cell_type": "markdown",
   "metadata": {},
   "source": [
    "$$L_{x=0}\\{b_{1} = (0, y_{1}, z_{1}), b_{2} =  (0, y_{2}, z_{2}), ... ,b_{n} =  (0, y_{n}, z_{n})\\} \\in \\mathbb{R}^{3}, n \\in \\mathbb{N}$$"
   ]
  },
  {
   "cell_type": "markdown",
   "metadata": {},
   "source": [
    "При:"
   ]
  },
  {
   "cell_type": "markdown",
   "metadata": {},
   "source": [
    "$$ \\forall b_{m} =(0, y_{m}, z_{m}), b_{n} = (0, y_{n}, z_{n}) \\in L_{x=0}, y, z, \\in \\mathbb{R}, \\alpha \\in \\mathbb{R},  m, n \\in \\mathbb{N} $$"
   ]
  },
  {
   "cell_type": "markdown",
   "metadata": {},
   "source": [
    "Справедливы следующие высказывания:"
   ]
  },
  {
   "cell_type": "markdown",
   "metadata": {},
   "source": [
    "$$ \\forall (b_{m} - b_{n}) = (0, y_{m}-y_{n}, z_{m}-z_{n})\\in L $$"
   ]
  },
  {
   "cell_type": "markdown",
   "metadata": {},
   "source": [
    "$$ \\forall \\alpha \\cdot b_{m} = (0, \\alpha \\cdot y_{m},  \\alpha \\cdot z_{m})\\in L $$"
   ]
  },
  {
   "cell_type": "markdown",
   "metadata": {},
   "source": [
    "То есть:"
   ]
  },
  {
   "cell_type": "markdown",
   "metadata": {},
   "source": [
    "$$ L_{x=0} \\in L $$"
   ]
  },
  {
   "cell_type": "markdown",
   "metadata": {},
   "source": [
    "Размерность пространства векторов множества $L_{x=0}$ не больше размерности пространства векторов множества $L$, и пространства векторов множества $L_{x=0}$ само является линейным пространством. Что и требовалось доказать."
   ]
  },
  {
   "cell_type": "markdown",
   "metadata": {},
   "source": [
    "Ответ:  Да, является.\n"
   ]
  },
  {
   "cell_type": "markdown",
   "metadata": {},
   "source": [
    "б) все векторы, являющиеся линейными комбинациями данных векторов $\\{u_{1}, u_{2}, ..., u_{n}\\}$."
   ]
  },
  {
   "cell_type": "markdown",
   "metadata": {},
   "source": [
    "Обозначим данные векторы через множество $U$, такое, что:"
   ]
  },
  {
   "cell_type": "markdown",
   "metadata": {},
   "source": [
    " $$U\\{u_{1} = (x_{1}, x_{2}, ..., x_{m})_{1}, u_{2} = (x_{1}, x_{2}, ..., x_{m})_{2}, ... , u_{n} = (x_{1}, x_{2}, ..., x_{m})_{n} \\} \\in \\mathbb{R}, m,n \\in \\mathbb{N} $$"
   ]
  },
  {
   "cell_type": "markdown",
   "metadata": {},
   "source": [
    "Обозначим множество векторов $L$, являющихся линейными комбинациями векторов множества $U$:"
   ]
  },
  {
   "cell_type": "markdown",
   "metadata": {},
   "source": [
    " $$L\\{\\alpha_{1} \\cdot u_{1}=\\alpha_{1} \\cdot (x_{1}, x_{2}, ..., x_{m})_{1}, \\alpha_{2} \\cdot u_{2}=\\alpha_{2} \\cdot (x_{1}, x_{2}, ..., x_{m})_{2} , ... , \\alpha_{n} \\cdot u_{n}=\\alpha_{1} \\cdot (x_{1}, x_{2}, ..., x_{m})_{n} \\} \\in \\mathbb R, m,n \\in \\mathbb{N}, \\alpha \\in \\mathbb{R}$$"
   ]
  },
  {
   "cell_type": "markdown",
   "metadata": {},
   "source": [
    "При:"
   ]
  },
  {
   "cell_type": "markdown",
   "metadata": {},
   "source": [
    "$$\\forall l_{a} =\\alpha _{a} \\cdot (x_{1}, x_{2}, ..., x_{m})_{a}, l_{b} = \\alpha _{b} \\cdot (x_{1}, x_{2}, ..., x_{m})_{b} \\in L, \\alpha, \\beta \\in \\mathbb{R}, x \\in \\mathbb{R},  a, b, m \\in \\mathbb{N} $$"
   ]
  },
  {
   "cell_type": "markdown",
   "metadata": {},
   "source": [
    "Справедливы следующие высказывания:"
   ]
  },
  {
   "cell_type": "markdown",
   "metadata": {},
   "source": [
    "$$\\forall l_{a} - l_{b} = \\alpha _{a} \\cdot (x_{1}, x_{2}, ..., x_{m})_{a} - \\alpha _{b} \\cdot (x_{1}, x_{2}, ..., x_{m})_{b} = (\\alpha _{a} \\cdot x_{1(a)} - \\alpha _{b} \\cdot x_{1(b)}, \\alpha _{a} \\cdot x_{2(a)} - \\alpha _{b} \\cdot x_{2(b)}, ..., \\alpha _{a} \\cdot x_{m(a)} - \\alpha _{b} \\cdot x_{m(b)})$$"
   ]
  },
  {
   "cell_type": "markdown",
   "metadata": {},
   "source": [
    "$$ \\beta \\cdot l_{a} =\\beta \\cdot \\alpha _{a} \\cdot (x_{1}, x_{2}, ..., x_{m})_{a} = (\\beta \\cdot \\alpha _{a} \\cdot x_{1}, \\beta \\cdot \\alpha _{a} \\cdot x_{2},..., \\beta \\cdot \\alpha _{a} \\cdot x_{m})$$"
   ]
  },
  {
   "cell_type": "markdown",
   "metadata": {},
   "source": [
    "Таким образом, пространство векторов множества $L$ является линейным, а поскольку размерность пространств векторов множеств $U$ и $L$ одинаковая, из этого следует, что все векторы, являющиеся линейной комбинацией данных являются их линейным подпространством."
   ]
  },
  {
   "cell_type": "markdown",
   "metadata": {},
   "source": [
    "Ответ: Да."
   ]
  },
  {
   "cell_type": "code",
   "execution_count": null,
   "metadata": {},
   "outputs": [],
   "source": []
  }
 ],
 "metadata": {
  "kernelspec": {
   "display_name": "Python 3",
   "language": "python",
   "name": "python3"
  },
  "language_info": {
   "codemirror_mode": {
    "name": "ipython",
    "version": 3
   },
   "file_extension": ".py",
   "mimetype": "text/x-python",
   "name": "python",
   "nbconvert_exporter": "python",
   "pygments_lexer": "ipython3",
   "version": "3.8.5"
  }
 },
 "nbformat": 4,
 "nbformat_minor": 4
}
