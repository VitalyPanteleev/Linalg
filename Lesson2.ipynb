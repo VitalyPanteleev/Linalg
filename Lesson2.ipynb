{
 "cells": [
  {
   "cell_type": "markdown",
   "metadata": {},
   "source": [
    "### Линейная алгебра. Домашнее задание."
   ]
  },
  {
   "cell_type": "markdown",
   "metadata": {},
   "source": [
    "#### Урок 3."
   ]
  },
  {
   "cell_type": "markdown",
   "metadata": {},
   "source": [
    "##### 1. Установить, какие произведения матриц $AB$ и $BA$ определены, и найти размерности полученных матриц:"
   ]
  },
  {
   "cell_type": "markdown",
   "metadata": {},
   "source": [
    "а) $A$ — матрица $4\\times 2$, $B$ — матрица $4\\times 2$;\n",
    "\n",
    "\n",
    "$AB$ не определено\n",
    "\n",
    "$BA : 2 \\times 2$"
   ]
  },
  {
   "cell_type": "markdown",
   "metadata": {},
   "source": [
    "б) $A$ — матрица $2\\times 5$, $B$ — матрица $5\\times 3$;\n",
    "\n",
    "\n",
    "$AB: 2 \\times 3$\n",
    "\n",
    "$BA$ не определено"
   ]
  },
  {
   "cell_type": "markdown",
   "metadata": {},
   "source": [
    "в) $A$ — матрица $8\\times 3$, $B$ — матрица $3\\times 8$;\n",
    "\n",
    "\n",
    "$AB: 8 \\times 8$\n",
    "\n",
    "$BA: 3 \\times 3$"
   ]
  },
  {
   "cell_type": "markdown",
   "metadata": {},
   "source": [
    "г) $A$ — квадратная матрица $4\\times 4$, $B$ — квадратная матрица $4\\times 4$.\n",
    "\n",
    "\n",
    "\n",
    "$AB: 4 \\times 4$\n",
    "\n",
    "$BA: 4 \\times 4$"
   ]
  },
  {
   "cell_type": "markdown",
   "metadata": {},
   "source": [
    "##### 2. Найти сумму и произведение матриц $A=\\begin{pmatrix}\n",
    "1 & -2\\\\ \n",
    "3 & 0\n",
    "\\end{pmatrix}$ и $B=\\begin{pmatrix}\n",
    "4 & -1\\\\ \n",
    "0 & 5\n",
    "\\end{pmatrix}.$"
   ]
  },
  {
   "cell_type": "markdown",
   "metadata": {},
   "source": [
    "$A + B = \\begin{pmatrix} 1+4 & -2-1\\\\ 3+0 & 0+5\\end{pmatrix} = \\begin{pmatrix} 5 & -3\\\\ 3 & 5\\end{pmatrix} $\n"
   ]
  },
  {
   "cell_type": "markdown",
   "metadata": {},
   "source": [
    "$AB = \\begin{pmatrix} 1*4 + (-2)*0 & 1*(-1)+ (-2)*5\\\\ 3*4 + 0*0 & 3*(-1)+ 0*5 \\end{pmatrix} = \\begin{pmatrix} 4 & -11\\\\ 12 & -3\\end{pmatrix} $"
   ]
  },
  {
   "cell_type": "markdown",
   "metadata": {},
   "source": [
    "$BA = \\begin{pmatrix} 4*1 + (-1)*3 & 4*(-2)+ (-1)*0\\\\ 0*1 + 5*3 & 0*(-2)+ 5*0 \\end{pmatrix} = \\begin{pmatrix} 1 & -8\\\\ 15 & 0\\end{pmatrix} $"
   ]
  },
  {
   "cell_type": "code",
   "execution_count": 1,
   "metadata": {},
   "outputs": [],
   "source": [
    "import numpy as np"
   ]
  },
  {
   "cell_type": "code",
   "execution_count": 14,
   "metadata": {},
   "outputs": [
    {
     "name": "stdout",
     "output_type": "stream",
     "text": [
      "A + B\n",
      " [[ 5 -3]\n",
      " [ 3  5]]\n",
      "\n",
      "AB\n",
      " [[  4 -11]\n",
      " [ 12  -3]]\n",
      "BA\n",
      " [[ 1 -8]\n",
      " [15  0]]\n"
     ]
    }
   ],
   "source": [
    "A = np.array([[1, -2], [3, 0]])\n",
    "B = np.array([[4, -1], [0, 5]])\n",
    "\n",
    "print(f\"A + B\\n {(A + B)}\\n\")\n",
    "print(f\"AB\\n {np.dot(A, B)}\")\n",
    "print(f\"BA\\n {np.dot(B, A)}\")"
   ]
  },
  {
   "cell_type": "markdown",
   "metadata": {},
   "source": [
    "##### 3. Из закономерностей сложения и умножения матриц на число можно сделать вывод, что матрицы одного размера образуют линейное пространство. Вычислить линейную комбинацию $3A-2B+4C$ для матриц $A=\\begin{pmatrix}\n",
    "1 & 7\\\\ \n",
    "3 & -6\n",
    "\\end{pmatrix}$, $B=\\begin{pmatrix}\n",
    "0 & 5\\\\ \n",
    "2 & -1\n",
    "\\end{pmatrix}$, $C=\\begin{pmatrix}\n",
    "2 & -4\\\\ \n",
    "1 & 1\n",
    "\\end{pmatrix}.$"
   ]
  },
  {
   "cell_type": "markdown",
   "metadata": {},
   "source": [
    "$3A-2B+4C = 3 \\begin{pmatrix} 1 & 7 \\\\ 3 & -6 \\end{pmatrix} - 2\\begin{pmatrix}0 & 5 \\\\ 2 & -1 \\end{pmatrix} + 4\\begin{pmatrix} 2 & -4 \\\\ 1 & 1 \\end{pmatrix} =  \\begin{pmatrix} 3 & 21 \\\\ 9 & -18 \\end{pmatrix} - \\begin{pmatrix} 0 & 10 \\\\ 4 & -2 \\end{pmatrix} + \\begin{pmatrix} 8 & -16 \\\\ 4 & 4 \\end{pmatrix}$"
   ]
  },
  {
   "cell_type": "code",
   "execution_count": null,
   "metadata": {},
   "outputs": [],
   "source": []
  }
 ],
 "metadata": {
  "kernelspec": {
   "display_name": "Python 3",
   "language": "python",
   "name": "python3"
  },
  "language_info": {
   "codemirror_mode": {
    "name": "ipython",
    "version": 3
   },
   "file_extension": ".py",
   "mimetype": "text/x-python",
   "name": "python",
   "nbconvert_exporter": "python",
   "pygments_lexer": "ipython3",
   "version": "3.8.5"
  }
 },
 "nbformat": 4,
 "nbformat_minor": 4
}
